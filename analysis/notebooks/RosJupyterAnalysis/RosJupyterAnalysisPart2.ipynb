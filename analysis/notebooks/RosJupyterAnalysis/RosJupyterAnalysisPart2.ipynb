{
 "cells": [
  {
   "cell_type": "markdown",
   "metadata": {},
   "source": [
    "![BobbleSim](https://media.giphy.com/media/oHv9d0GjtxQYioSYUA/giphy.gif \"Bobble-Bot Sim\")"
   ]
  },
  {
   "cell_type": "markdown",
   "metadata": {},
   "source": [
    "In [part 1]({static}/ros-analysis-part-1.html) we looked at how to generate data \n",
    "for the Bobble-Bot simulator. Either go back and read that post, or download the data \n",
    "[here](https://github.com/super-owesome/bobble_controllers/raw/master/analysis/notebooks/RosJupyterAnalysis/data/sample_data.zip) \n",
    "and keep reading. With your data ready, we can begin our analysis using Jupyter Notebook. First, \n",
    "let's get our analysis environment setup.\n",
    "\n",
    "All of the dependencies can be installed using pip.\n",
    "```bash\n",
    "sudo apt-get install python-pip python-dev build-essential\n",
    "pip install pandas jupyter rosbag_pandas seaborn\n",
    "```\n",
    "\n",
    "Let's use the sample analysis script provided in the bobble_controllers repository \n",
    "to test that we now have the needed packages.\n",
    "```bash\n",
    "cd ~/bobble_workspace\n",
    "catkin build\n",
    "source devel/setup.bash\n",
    "cd ~/src/bobble_controllers/analysis\n",
    "python make_plots.py -r impulse_force.bag\n",
    "```\n",
    "If all went well a TiltControl.png and VelocityControl.png file will be created in \n",
    "the working directory. These plots should look like this:\n",
    "\n",
    "![Tilt Control]({static}/images/TiltControl.png)\n",
    "\n",
    "![Velocity Control]({static}/images/VelocityControl.png)\n",
    "\n",
    "The analysis script can be used to make these two plots for any of the runs (including \n",
    "the data you produced in part 1). Here's how to use it:\n",
    "```bash\n",
    "python make_plots.py --help\n",
    "usage: make_plots.py [-h] [-r RUN] [-o OUT]\n",
    "\n",
    "optional arguments:\n",
    "  -h, --help         show this help message and exit\n",
    "  -r RUN, --run RUN  Bag file for simulation run of interest\n",
    "  -o OUT, --out OUT  Output directory.\n",
    "```"
   ]
  },
  {
   "cell_type": "markdown",
   "metadata": {},
   "source": [
    "## Using the analysis_tools module\n",
    "The [make_plots](https://github.com/super-owesome/bobble_controllers/blob/master/analysis/make_plots.py)\n",
    "Python script provides a good introduction to making plots of \n",
    "ROS data using [Pandas](https://pandas.pydata.org/) and \n",
    "[Matplotlib](https://matplotlib.org/). For your convenience, the bobble_controllers \n",
    "repository provides a helper Python module to facilitate making plots of the \n",
    "Bobble-Bot simulation data. The [analysis_tools module](https://github.com/super-owesome/bobble_controllers/tree/master/src/analysis_tools) \n",
    "is written to be fairly generic so that it can be adapted to more general ROS \n",
    "data analysis. Check it out, and feel free to adapt it to your own project.\n",
    "\n",
    "Our simulation data is stored in ROS bag format. Pandas DataFrames are a more \n",
    "convenient data representation for a Python+Jupyter based analysis. Our bag files can be \n",
    "quickly converted to this format by making use of the provided analysis_tools.parsing module. \n",
    "This article discusses how the parsing module [loads a ROS bag file into Pandas](https://nimbus.unl.edu/2014/11/using-rosbag_pandas-to-analyze-rosbag-files/) in \n",
    "more detail. Here's the relevant snippet of code that loads the simulation's bag \n",
    "file into a Pandas DataFrame.\n",
    "\n",
    "```python\n",
    "from analysis_tools.parsing import parse_single_run\n",
    "print \"Loading sim data from run : \" + str(run_name) + \" ... \"\n",
    "df = {}\n",
    "df[run_name] = parse_single_run(sim_data_bag_file)\n",
    "```\n",
    "Of course, this post is about a Jupyter Notebook based analysis. Let's see \n",
    "how we can use the analysis_tools module to load data into a notebook."
   ]
  },
  {
   "cell_type": "markdown",
   "metadata": {},
   "source": [
    "## Loading data into Jupyter\n",
    "The first step is to activate your environment and load Jupyter Notebook. To help \n",
    "you follow along, the Jupyter Notebooks for this series can be found [here](https://github.com/super-owesome/bobble_controllers/tree/master/analysis/notebooks/RosJupyterAnalysis). \n",
    "\n",
    "```bash\n",
    "cd ~/bobble_workspace\n",
    "source devel/setup.bash\n",
    "jupyter\n",
    "```\n",
    "With Jupyter now open, navigate to the folder containing your data and .ipynb file.\n",
    "In that folder, you will also find a file called nb_env.py. This file is used to import \n",
    "the needed modules and load all the bag files found in the data directory. Feel free to \n",
    "replace the contents of the data directory with the simulation data you generated from \n",
    "[part 1]({static}/ros-analysis-part-1.html). To load this file and view the simulation runs available for analysis, use the cell shown below."
   ]
  },
  {
   "cell_type": "code",
   "execution_count": 26,
   "metadata": {
    "scrolled": true
   },
   "outputs": [
    {
     "name": "stdout",
     "output_type": "stream",
     "text": [
      "Reading all bag files in directory : \n",
      "/home/mike/blogs/mike-moore/content/notebooks/ros-jup-analysis/data\n",
      "Successfully loaded runs : \n"
     ]
    },
    {
     "data": {
      "text/plain": [
       "['impulse_force', 'drive_square_js_response', 'balance', 'no_balance']"
      ]
     },
     "execution_count": 26,
     "metadata": {},
     "output_type": "execute_result"
    }
   ],
   "source": [
    "# Load anaylsis environment file. This file defines data directories\n",
    "# and imports all needed Python packages for this notebook.\n",
    "exec(open(\"nb_env.py\").read())\n",
    "# Print out the df dictionary keys (the test run names)\n",
    "df.keys()"
   ]
  },
  {
   "cell_type": "markdown",
   "metadata": {},
   "source": [
    "We now have all the data from the simulation runs generated in \n",
    "[part 1]({static}/ros-analysis-part-1.html). Let's use Pandas to demonstrate some \n",
    "basic manipulation of the simulation data."
   ]
  },
  {
   "cell_type": "markdown",
   "metadata": {},
   "source": [
    "### Print sim data in tabular form\n",
    "We can print the first five rows from the 'balance' run in a nice tabular form like so:"
   ]
  },
  {
   "cell_type": "code",
   "execution_count": 27,
   "metadata": {
    "scrolled": true
   },
   "outputs": [
    {
     "data": {
      "text/html": [
       "<div>\n",
       "<style scoped>\n",
       "    .dataframe tbody tr th:only-of-type {\n",
       "        vertical-align: middle;\n",
       "    }\n",
       "\n",
       "    .dataframe tbody tr th {\n",
       "        vertical-align: top;\n",
       "    }\n",
       "\n",
       "    .dataframe thead th {\n",
       "        text-align: right;\n",
       "    }\n",
       "</style>\n",
       "<table border=\"1\" class=\"dataframe\">\n",
       "  <thead>\n",
       "    <tr style=\"text-align: right;\">\n",
       "      <th></th>\n",
       "      <th>Tilt</th>\n",
       "      <th>TiltEffort</th>\n",
       "      <th>TiltRate</th>\n",
       "      <th>TurnRate</th>\n",
       "    </tr>\n",
       "    <tr>\n",
       "      <th>time</th>\n",
       "      <th></th>\n",
       "      <th></th>\n",
       "      <th></th>\n",
       "      <th></th>\n",
       "    </tr>\n",
       "  </thead>\n",
       "  <tbody>\n",
       "    <tr>\n",
       "      <th>0.000</th>\n",
       "      <td>0.012409</td>\n",
       "      <td>0.0</td>\n",
       "      <td>-1.548588</td>\n",
       "      <td>0.006942</td>\n",
       "    </tr>\n",
       "    <tr>\n",
       "      <th>0.005</th>\n",
       "      <td>0.001358</td>\n",
       "      <td>0.0</td>\n",
       "      <td>0.459353</td>\n",
       "      <td>0.474901</td>\n",
       "    </tr>\n",
       "    <tr>\n",
       "      <th>0.010</th>\n",
       "      <td>-0.001004</td>\n",
       "      <td>0.0</td>\n",
       "      <td>1.230456</td>\n",
       "      <td>1.599712</td>\n",
       "    </tr>\n",
       "    <tr>\n",
       "      <th>0.015</th>\n",
       "      <td>-0.005767</td>\n",
       "      <td>0.0</td>\n",
       "      <td>-0.108348</td>\n",
       "      <td>1.204383</td>\n",
       "    </tr>\n",
       "    <tr>\n",
       "      <th>0.020</th>\n",
       "      <td>0.003489</td>\n",
       "      <td>0.0</td>\n",
       "      <td>0.379041</td>\n",
       "      <td>-0.893774</td>\n",
       "    </tr>\n",
       "  </tbody>\n",
       "</table>\n",
       "</div>"
      ],
      "text/plain": [
       "           Tilt  TiltEffort  TiltRate  TurnRate\n",
       "time                                           \n",
       "0.000  0.012409         0.0 -1.548588  0.006942\n",
       "0.005  0.001358         0.0  0.459353  0.474901\n",
       "0.010 -0.001004         0.0  1.230456  1.599712\n",
       "0.015 -0.005767         0.0 -0.108348  1.204383\n",
       "0.020  0.003489         0.0  0.379041 -0.893774"
      ]
     },
     "execution_count": 27,
     "metadata": {},
     "output_type": "execute_result"
    }
   ],
   "source": [
    "n_rows = 5\n",
    "df['balance'].loc[:, 'Tilt':'TurnRate'].head(n_rows)"
   ]
  },
  {
   "cell_type": "markdown",
   "metadata": {},
   "source": [
    "### Search for a column\n",
    "Here's how to search for a column(s) in a DataFrame:"
   ]
  },
  {
   "cell_type": "code",
   "execution_count": 28,
   "metadata": {},
   "outputs": [
    {
     "data": {
      "text/html": [
       "<div>\n",
       "<style scoped>\n",
       "    .dataframe tbody tr th:only-of-type {\n",
       "        vertical-align: middle;\n",
       "    }\n",
       "\n",
       "    .dataframe tbody tr th {\n",
       "        vertical-align: top;\n",
       "    }\n",
       "\n",
       "    .dataframe thead th {\n",
       "        text-align: right;\n",
       "    }\n",
       "</style>\n",
       "<table border=\"1\" class=\"dataframe\">\n",
       "  <thead>\n",
       "    <tr style=\"text-align: right;\">\n",
       "      <th></th>\n",
       "      <th>DesiredVelocity</th>\n",
       "      <th>ForwardVelocity</th>\n",
       "      <th>LeftMotorVelocity</th>\n",
       "      <th>RightMotorVelocity</th>\n",
       "    </tr>\n",
       "    <tr>\n",
       "      <th>time</th>\n",
       "      <th></th>\n",
       "      <th></th>\n",
       "      <th></th>\n",
       "      <th></th>\n",
       "    </tr>\n",
       "  </thead>\n",
       "  <tbody>\n",
       "    <tr>\n",
       "      <th>0.000</th>\n",
       "      <td>0.0</td>\n",
       "      <td>-0.000003</td>\n",
       "      <td>-0.002918</td>\n",
       "      <td>-0.002919</td>\n",
       "    </tr>\n",
       "    <tr>\n",
       "      <th>0.005</th>\n",
       "      <td>0.0</td>\n",
       "      <td>-0.000003</td>\n",
       "      <td>-0.002918</td>\n",
       "      <td>-0.002919</td>\n",
       "    </tr>\n",
       "    <tr>\n",
       "      <th>0.010</th>\n",
       "      <td>0.0</td>\n",
       "      <td>-0.000003</td>\n",
       "      <td>-0.002918</td>\n",
       "      <td>-0.002919</td>\n",
       "    </tr>\n",
       "    <tr>\n",
       "      <th>0.015</th>\n",
       "      <td>0.0</td>\n",
       "      <td>-0.000003</td>\n",
       "      <td>-0.002918</td>\n",
       "      <td>-0.002919</td>\n",
       "    </tr>\n",
       "    <tr>\n",
       "      <th>0.020</th>\n",
       "      <td>0.0</td>\n",
       "      <td>-0.000003</td>\n",
       "      <td>-0.003891</td>\n",
       "      <td>-0.003891</td>\n",
       "    </tr>\n",
       "  </tbody>\n",
       "</table>\n",
       "</div>"
      ],
      "text/plain": [
       "       DesiredVelocity  ForwardVelocity  LeftMotorVelocity  RightMotorVelocity\n",
       "time                                                                          \n",
       "0.000              0.0        -0.000003          -0.002918           -0.002919\n",
       "0.005              0.0        -0.000003          -0.002918           -0.002919\n",
       "0.010              0.0        -0.000003          -0.002918           -0.002919\n",
       "0.015              0.0        -0.000003          -0.002918           -0.002919\n",
       "0.020              0.0        -0.000003          -0.003891           -0.003891"
      ]
     },
     "execution_count": 28,
     "metadata": {},
     "output_type": "execute_result"
    }
   ],
   "source": [
    "search_string = 'Vel'\n",
    "found_data = df['no_balance'].filter(regex=search_string)\n",
    "found_data.head()"
   ]
  },
  {
   "cell_type": "markdown",
   "metadata": {},
   "source": [
    "### Get all column names\n",
    "You can view all of the data available in a given run like so:"
   ]
  },
  {
   "cell_type": "code",
   "execution_count": 29,
   "metadata": {},
   "outputs": [
    {
     "data": {
      "text/plain": [
       "Index([u'ControlMode', u'DesiredTilt', u'DesiredTurnRate', u'DesiredVelocity',\n",
       "       u'ForwardVelocity', u'Heading', u'HeadingEffort', u'LeftMotorEffortCmd',\n",
       "       u'LeftMotorPosition', u'LeftMotorVelocity', u'MeasuredTiltDot',\n",
       "       u'MeasuredTurnRate', u'RightMotorEffortCmd', u'RightMotorPosition',\n",
       "       u'RightMotorVelocity', u'Tilt', u'TiltEffort', u'TiltRate', u'TurnRate',\n",
       "       u'time'],\n",
       "      dtype='object')"
      ]
     },
     "execution_count": 29,
     "metadata": {},
     "output_type": "execute_result"
    }
   ],
   "source": [
    "df['balance'].dtypes.index"
   ]
  },
  {
   "cell_type": "markdown",
   "metadata": {},
   "source": [
    "### Find the maximum value of a column "
   ]
  },
  {
   "cell_type": "code",
   "execution_count": 30,
   "metadata": {},
   "outputs": [
    {
     "name": "stdout",
     "output_type": "stream",
     "text": [
      "Max tilt no_balance run: 89.70 \n",
      "Max tilt balance run: 2.88 \n"
     ]
    }
   ],
   "source": [
    "print \"Max tilt no_balance run: %0.2f \" % df['no_balance']['Tilt'].max()\n",
    "print \"Max tilt balance run: %0.2f \" % df['balance']['Tilt'].max()"
   ]
  },
  {
   "cell_type": "markdown",
   "metadata": {},
   "source": [
    "Many more data processing and manipulation functions are possible. Consult the \n",
    "[Pandas documentation](https://pandas.pydata.org/pandas-docs/version/0.21/generated/pandas.DataFrame.html) \n",
    "for more information. "
   ]
  },
  {
   "cell_type": "markdown",
   "metadata": {},
   "source": [
    "## What's Next?\n",
    "This post has demonstrated how to make a few plots of our simulation data from the command \n",
    "line. It also covered how to load the simulation runs into Jupyter Notebook. Finally, we explored \n",
    "using various Pandas functions to manipulate and print out this data within Jupyter.\n",
    "In [part 3]({static}/ros-analysis-part-3), we will show how to post \n",
    "process this data using [NumPy](http://www.numpy.org/), and then make some plots \n",
    "that capture the Bobble-Bot balance controller's performance."
   ]
  }
 ],
 "metadata": {
  "kernelspec": {
   "display_name": "Python 2",
   "language": "python",
   "name": "python2"
  },
  "language_info": {
   "codemirror_mode": {
    "name": "ipython",
    "version": 2
   },
   "file_extension": ".py",
   "mimetype": "text/x-python",
   "name": "python",
   "nbconvert_exporter": "python",
   "pygments_lexer": "ipython2",
   "version": "2.7.15rc1"
  },
  "toc": {
   "base_numbering": 1,
   "nav_menu": {},
   "number_sections": true,
   "sideBar": true,
   "skip_h1_title": false,
   "title_cell": "Table of Contents",
   "title_sidebar": "Contents",
   "toc_cell": false,
   "toc_position": {},
   "toc_section_display": true,
   "toc_window_display": false
  }
 },
 "nbformat": 4,
 "nbformat_minor": 2
}
